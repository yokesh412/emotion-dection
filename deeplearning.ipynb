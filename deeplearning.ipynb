{
  "nbformat": 4,
  "nbformat_minor": 0,
  "metadata": {
    "colab": {
      "name": "deeplearning.ipynb",
      "provenance": [],
      "collapsed_sections": [],
      "authorship_tag": "ABX9TyPvNikNo7Z/8McJJEkC8Svn",
      "include_colab_link": true
    },
    "kernelspec": {
      "name": "python3",
      "display_name": "Python 3"
    },
    "language_info": {
      "name": "python"
    },
    "accelerator": "GPU"
  },
  "cells": [
    {
      "cell_type": "markdown",
      "metadata": {
        "id": "view-in-github",
        "colab_type": "text"
      },
      "source": [
        "<a href=\"https://colab.research.google.com/github/yokesh412/emotion-dection/blob/main/deeplearning.ipynb\" target=\"_parent\"><img src=\"https://colab.research.google.com/assets/colab-badge.svg\" alt=\"Open In Colab\"/></a>"
      ]
    },
    {
      "cell_type": "code",
      "source": [
        "from google.colab import drive\n",
        "drive.mount('/content/drive')"
      ],
      "metadata": {
        "colab": {
          "base_uri": "https://localhost:8080/"
        },
        "id": "2O9RWaK9WFsW",
        "outputId": "ae07af2f-5241-420a-e8fa-bd7ab4dbba34"
      },
      "execution_count": 1,
      "outputs": [
        {
          "output_type": "stream",
          "name": "stdout",
          "text": [
            "Mounted at /content/drive\n"
          ]
        }
      ]
    },
    {
      "cell_type": "code",
      "source": [
        "import pandas as pd\n",
        "import numpy as np\n",
        "import matplotlib.pyplot as plt\n",
        "import seaborn as sns\n",
        "import plotly.express as px\n",
        "\n",
        "\n",
        "import tensorflow as tf\n",
        "from tensorflow.keras.preprocessing.image import ImageDataGenerator\n",
        "from tensorflow.keras.utils import to_categorical\n",
        "\n",
        "from sklearn.metrics import confusion_matrix , classification_report \n",
        "from sklearn.preprocessing import LabelBinarizer\n",
        "from sklearn.metrics import roc_curve, auc, roc_auc_score\n",
        "\n",
        "from IPython.display import clear_output\n",
        "import warnings\n",
        "warnings.filterwarnings('ignore')"
      ],
      "metadata": {
        "id": "XI653R1-WtA9"
      },
      "execution_count": 2,
      "outputs": []
    },
    {
      "cell_type": "code",
      "source": [
        "train_dir = \"/content/drive/MyDrive/deep learning dataset/train\"\n",
        "test_dir = \"/content/drive/MyDrive/deep learning dataset/test\"\n",
        "\n",
        "SEED = 12\n",
        "IMG_HEIGHT = 48\n",
        "IMG_WIDTH = 48\n",
        "BATCH_SIZE = 64\n",
        "EPOCHS = 30\n",
        "FINE_TUNING_EPOCHS = 20\n",
        "LR = 0.01\n",
        "NUM_CLASSES = 7\n",
        "EARLY_STOPPING_CRITERIA=3\n",
        "CLASS_LABELS  = ['Anger', 'Disgust', 'Fear', 'Happy', 'Neutral', 'Sadness', \"Surprise\"]\n"
      ],
      "metadata": {
        "id": "BsHrQxanV-pe"
      },
      "execution_count": 3,
      "outputs": []
    },
    {
      "cell_type": "code",
      "source": [
        "preprocess_fun = tf.keras.applications.densenet.preprocess_input\n",
        "\n",
        "train_datagen = ImageDataGenerator(horizontal_flip=True,\n",
        "                                   width_shift_range=0.1,\n",
        "                                   height_shift_range=0.05,\n",
        "                                   rescale = 1./255,\n",
        "                                   validation_split = 0.2,\n",
        "                                   preprocessing_function=preprocess_fun\n",
        "                                  )\n",
        "test_datagen = ImageDataGenerator(rescale = 1./255,\n",
        "                                  validation_split = 0.2,\n",
        "                                  preprocessing_function=preprocess_fun)\n",
        "train_generator = train_datagen.flow_from_directory(directory = train_dir,\n",
        "                                                    target_size = (IMG_HEIGHT ,IMG_WIDTH),\n",
        "                                                    batch_size = BATCH_SIZE,\n",
        "                                                    shuffle  = True , \n",
        "                                                    color_mode = \"rgb\",\n",
        "                                                    class_mode = \"categorical\",\n",
        "                                                    subset = \"training\",\n",
        "                                                    seed = 12\n",
        "                                                   )\n",
        "validation_generator = test_datagen.flow_from_directory(directory = train_dir,\n",
        "                                                         target_size = (IMG_HEIGHT ,IMG_WIDTH),\n",
        "                                                         batch_size = BATCH_SIZE,\n",
        "                                                         shuffle  = True , \n",
        "                                                         color_mode = \"rgb\",\n",
        "                                                         class_mode = \"categorical\",\n",
        "                                                         subset = \"validation\",\n",
        "                                                         seed = 12\n",
        "                                                        )\n",
        "test_generator = test_datagen.flow_from_directory(directory = test_dir,\n",
        "                                                   target_size = (IMG_HEIGHT ,IMG_WIDTH),\n",
        "                                                    batch_size = BATCH_SIZE,\n",
        "                                                    shuffle  = False , \n",
        "                                                    color_mode = \"rgb\",\n",
        "                                                    class_mode = \"categorical\",\n",
        "                                                    seed = 12\n",
        "                                                  )"
      ],
      "metadata": {
        "colab": {
          "base_uri": "https://localhost:8080/"
        },
        "id": "okafejb2XEKm",
        "outputId": "8978565a-6803-4eab-9e70-9d71c092607c"
      },
      "execution_count": 4,
      "outputs": [
        {
          "output_type": "stream",
          "name": "stdout",
          "text": [
            "Found 22968 images belonging to 7 classes.\n",
            "Found 5741 images belonging to 7 classes.\n",
            "Found 7178 images belonging to 7 classes.\n"
          ]
        }
      ]
    },
    {
      "cell_type": "code",
      "source": [
        "# Helper Functions\n",
        "def display_one_image(image, title, subplot, color):\n",
        "    plt.subplot(subplot)\n",
        "    plt.axis('off')\n",
        "    plt.imshow(image)\n",
        "    plt.title(title, fontsize=16)\n",
        "     \n",
        "def display_nine_images(images, titles, title_colors=None):\n",
        "    subplot = 331\n",
        "    plt.figure(figsize=(13,13))\n",
        "    for i in range(9):\n",
        "        color = 'black' if title_colors is None else title_colors[i]\n",
        "        display_one_image(images[i], titles[i], 331+i, color)\n",
        "    plt.tight_layout()\n",
        "    plt.subplots_adjust(wspace=0.1, hspace=0.1)\n",
        "    plt.show()\n",
        "def image_title(label, prediction):\n",
        "# Both prediction (probabilities) and label (one-hot) are arrays with one item per class.\n",
        "  class_idx = np.argmax(label, axis=-1)\n",
        "  prediction_idx = np.argmax(prediction, axis=-1)\n",
        "  if class_idx == prediction_idx:\n",
        "    return f'{CLASS_LABELS[prediction_idx]} [correct]', 'black'\n",
        "  else:\n",
        "    return f'{CLASS_LABELS[prediction_idx]} [incorrect, should be {CLASS_LABELS[class_idx]}]', 'red'  \n",
        "def get_titles(images, labels, model):\n",
        "    predictions = model.predict(images)\n",
        "    titles, colors = [], []\n",
        "    for label, prediction in zip(classes, predictions):\n",
        "        title, color = image_title(label, prediction)\n",
        "        titles.append(title)\n",
        "        colors.append(color)\n",
        "    return titles, colors\n",
        "    \n",
        "img_datagen=ImageDataGenerator(rescale = 1./255)\n",
        "img_generator = img_datagen.flow_from_directory(directory = train_dir,\n",
        "                                                   target_size = (IMG_HEIGHT ,IMG_WIDTH),\n",
        "                                                    batch_size = BATCH_SIZE,\n",
        "                                                    shuffle  = True , \n",
        "                                                    color_mode = \"rgb\",\n",
        "                                                    class_mode = \"categorical\",\n",
        "                                                    seed = 12\n",
        "                                                  )\n",
        "clear_output()\n",
        "\n",
        "images, classes = next(img_generator)\n",
        "class_idxs = np.argmax(classes, axis=-1) \n",
        "labels = [CLASS_LABELS[idx] for idx in class_idxs]\n",
        "display_nine_images(images, labels)    \n",
        "\n"
      ],
      "metadata": {
        "id": "12phOyFMj8o6",
        "colab": {
          "base_uri": "https://localhost:8080/",
          "height": 945
        },
        "outputId": "77d05bb6-18f7-439c-8e36-8f3728f51923"
      },
      "execution_count": 5,
      "outputs": [
        {
          "output_type": "display_data",
          "data": {
            "image/png": "[encoded data removed]",
            "text/plain": [
              "<Figure size 936x936 with 9 Axes>"
            ]
          },
          "metadata": {
            "needs_background": "light"
          }
        }
      ]
    },
    {
      "cell_type": "code",
      "source": [
        "fig = px.bar(x = CLASS_LABELS,\n",
        "             y = [list(train_generator.classes).count(i) for i in np.unique(train_generator.classes)] , \n",
        "             color = np.unique(train_generator.classes) ,\n",
        "             color_continuous_scale=\"Emrld\") \n",
        "fig.update_xaxes(title=\"Emotions\")\n",
        "fig.update_yaxes(title = \"Number of Images\")\n",
        "fig.update_layout(showlegend = True,\n",
        "    title = {\n",
        "        'text': 'Train Data Distribution ',\n",
        "        'y':0.95,\n",
        "        'x':0.5,\n",
        "        'xanchor': 'center',\n",
        "        'yanchor': 'top'})\n",
        "fig.show()"
      ],
      "metadata": {
        "id": "EM_M7Vi2kYon",
        "colab": {
          "base_uri": "https://localhost:8080/",
          "height": 542
        },
        "outputId": "6b4b3034-c6c5-436b-da6f-e67bf86818fd"
      },
      "execution_count": 6,
      "outputs": [
        {
          "output_type": "display_data",
          "data": {
            "text/html": [
              "<html>\n",
              "<head><meta charset=\"utf-8\" /></head>\n",
              "<body>\n",
              "    <div>\n",
              "            <script src=\"https://cdnjs.cloudflare.com/ajax/libs/mathjax/2.7.5/MathJax.js?config=TeX-AMS-MML_SVG\"></script><script type=\"text/javascript\">if (window.MathJax) {MathJax.Hub.Config({SVG: {font: \"STIX-Web\"}});}</script>\n",
              "                <script type=\"text/javascript\">window.PlotlyConfig = {MathJaxConfig: 'local'};</script>\n",
              "        <script src=\"https://cdn.plot.ly/plotly-latest.min.js\"></script>    \n",
              "            <div id=\"a2b5c45b-10f4-4b0d-ac0f-67af2da515b6\" class=\"plotly-graph-div\" style=\"height:525px; width:100%;\"></div>\n",
              "            <script type=\"text/javascript\">\n",
              "                \n",
              "                    window.PLOTLYENV=window.PLOTLYENV || {};\n",
              "                    \n",
              "                if (document.getElementById(\"a2b5c45b-10f4-4b0d-ac0f-67af2da515b6\")) {\n",
              "                    Plotly.newPlot(\n",
              "                        'a2b5c45b-10f4-4b0d-ac0f-67af2da515b6',\n",
              "                        [{\"alignmentgroup\": \"True\", \"hoverlabel\": {\"namelength\": 0}, \"hovertemplate\": \"x=%{x}<br>y=%{y}<br>color=%{marker.color}\", \"legendgroup\": \"\", \"marker\": {\"color\": [0, 1, 2, 3, 4, 5, 6], \"coloraxis\": \"coloraxis\"}, \"name\": \"\", \"offsetgroup\": \"\", \"orientation\": \"v\", \"showlegend\": false, \"textposition\": \"auto\", \"type\": \"bar\", \"x\": [\"Anger\", \"Disgust\", \"Fear\", \"Happy\", \"Neutral\", \"Sadness\", \"Surprise\"], \"xaxis\": \"x\", \"y\": [3196, 349, 3278, 5772, 3972, 3864, 2537], \"yaxis\": \"y\"}],\n",
              "                        {\"barmode\": \"relative\", \"coloraxis\": {\"colorbar\": {\"title\": {\"text\": \"color\"}}, \"colorscale\": [[0.0, \"rgb(211, 242, 163)\"], [0.16666666666666666, \"rgb(151, 225, 150)\"], [0.3333333333333333, \"rgb(108, 192, 139)\"], [0.5, \"rgb(76, 155, 130)\"], [0.6666666666666666, \"rgb(33, 122, 121)\"], [0.8333333333333334, \"rgb(16, 89, 101)\"], [1.0, \"rgb(7, 64, 80)\"]]}, \"legend\": {\"tracegroupgap\": 0}, \"margin\": {\"t\": 60}, \"showlegend\": true, \"template\": {\"data\": {\"bar\": [{\"error_x\": {\"color\": \"#2a3f5f\"}, \"error_y\": {\"color\": \"#2a3f5f\"}, \"marker\": {\"line\": {\"color\": \"#E5ECF6\", \"width\": 0.5}}, \"type\": \"bar\"}], \"barpolar\": [{\"marker\": {\"line\": {\"color\": \"#E5ECF6\", \"width\": 0.5}}, \"type\": \"barpolar\"}], \"carpet\": [{\"aaxis\": {\"endlinecolor\": \"#2a3f5f\", \"gridcolor\": \"white\", \"linecolor\": \"white\", \"minorgridcolor\": \"white\", \"startlinecolor\": \"#2a3f5f\"}, \"baxis\": {\"endlinecolor\": \"#2a3f5f\", \"gridcolor\": \"white\", \"linecolor\": \"white\", \"minorgridcolor\": \"white\", \"startlinecolor\": \"#2a3f5f\"}, \"type\": \"carpet\"}], \"choropleth\": [{\"colorbar\": {\"outlinewidth\": 0, \"ticks\": \"\"}, \"type\": \"choropleth\"}], \"contour\": [{\"colorbar\": {\"outlinewidth\": 0, \"ticks\": \"\"}, \"colorscale\": [[0.0, \"#0d0887\"], [0.1111111111111111, \"#46039f\"], [0.2222222222222222, \"#7201a8\"], [0.3333333333333333, \"#9c179e\"], [0.4444444444444444, \"#bd3786\"], [0.5555555555555556, \"#d8576b\"], [0.6666666666666666, \"#ed7953\"], [0.7777777777777778, \"#fb9f3a\"], [0.8888888888888888, \"#fdca26\"], [1.0, \"#f0f921\"]], \"type\": \"contour\"}], \"contourcarpet\": [{\"colorbar\": {\"outlinewidth\": 0, \"ticks\": \"\"}, \"type\": \"contourcarpet\"}], \"heatmap\": [{\"colorbar\": {\"outlinewidth\": 0, \"ticks\": \"\"}, \"colorscale\": [[0.0, \"#0d0887\"], [0.1111111111111111, \"#46039f\"], [0.2222222222222222, \"#7201a8\"], [0.3333333333333333, \"#9c179e\"], [0.4444444444444444, \"#bd3786\"], [0.5555555555555556, \"#d8576b\"], [0.6666666666666666, \"#ed7953\"], [0.7777777777777778, \"#fb9f3a\"], [0.8888888888888888, \"#fdca26\"], [1.0, \"#f0f921\"]], \"type\": \"heatmap\"}], \"heatmapgl\": [{\"colorbar\": {\"outlinewidth\": 0, \"ticks\": \"\"}, \"colorscale\": [[0.0, \"#0d0887\"], [0.1111111111111111, \"#46039f\"], [0.2222222222222222, \"#7201a8\"], [0.3333333333333333, \"#9c179e\"], [0.4444444444444444, \"#bd3786\"], [0.5555555555555556, \"#d8576b\"], [0.6666666666666666, \"#ed7953\"], [0.7777777777777778, \"#fb9f3a\"], [0.8888888888888888, \"#fdca26\"], [1.0, \"#f0f921\"]], \"type\": \"heatmapgl\"}], \"histogram\": [{\"marker\": {\"colorbar\": {\"outlinewidth\": 0, \"ticks\": \"\"}}, \"type\": \"histogram\"}], \"histogram2d\": [{\"colorbar\": {\"outlinewidth\": 0, \"ticks\": \"\"}, \"colorscale\": [[0.0, \"#0d0887\"], [0.1111111111111111, \"#46039f\"], [0.2222222222222222, \"#7201a8\"], [0.3333333333333333, \"#9c179e\"], [0.4444444444444444, \"#bd3786\"], [0.5555555555555556, \"#d8576b\"], [0.6666666666666666, \"#ed7953\"], [0.7777777777777778, \"#fb9f3a\"], [0.8888888888888888, \"#fdca26\"], [1.0, \"#f0f921\"]], \"type\": \"histogram2d\"}], \"histogram2dcontour\": [{\"colorbar\": {\"outlinewidth\": 0, \"ticks\": \"\"}, \"colorscale\": [[0.0, \"#0d0887\"], [0.1111111111111111, \"#46039f\"], [0.2222222222222222, \"#7201a8\"], [0.3333333333333333, \"#9c179e\"], [0.4444444444444444, \"#bd3786\"], [0.5555555555555556, \"#d8576b\"], [0.6666666666666666, \"#ed7953\"], [0.7777777777777778, \"#fb9f3a\"], [0.8888888888888888, \"#fdca26\"], [1.0, \"#f0f921\"]], \"type\": \"histogram2dcontour\"}], \"mesh3d\": [{\"colorbar\": {\"outlinewidth\": 0, \"ticks\": \"\"}, \"type\": \"mesh3d\"}], \"parcoords\": [{\"line\": {\"colorbar\": {\"outlinewidth\": 0, \"ticks\": \"\"}}, \"type\": \"parcoords\"}], \"pie\": [{\"automargin\": true, \"type\": \"pie\"}], \"scatter\": [{\"marker\": {\"colorbar\": {\"outlinewidth\": 0, \"ticks\": \"\"}}, \"type\": \"scatter\"}], \"scatter3d\": [{\"line\": {\"colorbar\": {\"outlinewidth\": 0, \"ticks\": \"\"}}, \"marker\": {\"colorbar\": {\"outlinewidth\": 0, \"ticks\": \"\"}}, \"type\": \"scatter3d\"}], \"scattercarpet\": [{\"marker\": {\"colorbar\": {\"outlinewidth\": 0, \"ticks\": \"\"}}, \"type\": \"scattercarpet\"}], \"scattergeo\": [{\"marker\": {\"colorbar\": {\"outlinewidth\": 0, \"ticks\": \"\"}}, \"type\": \"scattergeo\"}], \"scattergl\": [{\"marker\": {\"colorbar\": {\"outlinewidth\": 0, \"ticks\": \"\"}}, \"type\": \"scattergl\"}], \"scattermapbox\": [{\"marker\": {\"colorbar\": {\"outlinewidth\": 0, \"ticks\": \"\"}}, \"type\": \"scattermapbox\"}], \"scatterpolar\": [{\"marker\": {\"colorbar\": {\"outlinewidth\": 0, \"ticks\": \"\"}}, \"type\": \"scatterpolar\"}], \"scatterpolargl\": [{\"marker\": {\"colorbar\": {\"outlinewidth\": 0, \"ticks\": \"\"}}, \"type\": \"scatterpolargl\"}], \"scatterternary\": [{\"marker\": {\"colorbar\": {\"outlinewidth\": 0, \"ticks\": \"\"}}, \"type\": \"scatterternary\"}], \"surface\": [{\"colorbar\": {\"outlinewidth\": 0, \"ticks\": \"\"}, \"colorscale\": [[0.0, \"#0d0887\"], [0.1111111111111111, \"#46039f\"], [0.2222222222222222, \"#7201a8\"], [0.3333333333333333, \"#9c179e\"], [0.4444444444444444, \"#bd3786\"], [0.5555555555555556, \"#d8576b\"], [0.6666666666666666, \"#ed7953\"], [0.7777777777777778, \"#fb9f3a\"], [0.8888888888888888, \"#fdca26\"], [1.0, \"#f0f921\"]], \"type\": \"surface\"}], \"table\": [{\"cells\": {\"fill\": {\"color\": \"#EBF0F8\"}, \"line\": {\"color\": \"white\"}}, \"header\": {\"fill\": {\"color\": \"#C8D4E3\"}, \"line\": {\"color\": \"white\"}}, \"type\": \"table\"}]}, \"layout\": {\"annotationdefaults\": {\"arrowcolor\": \"#2a3f5f\", \"arrowhead\": 0, \"arrowwidth\": 1}, \"coloraxis\": {\"colorbar\": {\"outlinewidth\": 0, \"ticks\": \"\"}}, \"colorscale\": {\"diverging\": [[0, \"#8e0152\"], [0.1, \"#c51b7d\"], [0.2, \"#de77ae\"], [0.3, \"#f1b6da\"], [0.4, \"#fde0ef\"], [0.5, \"#f7f7f7\"], [0.6, \"#e6f5d0\"], [0.7, \"#b8e186\"], [0.8, \"#7fbc41\"], [0.9, \"#4d9221\"], [1, \"#276419\"]], \"sequential\": [[0.0, \"#0d0887\"], [0.1111111111111111, \"#46039f\"], [0.2222222222222222, \"#7201a8\"], [0.3333333333333333, \"#9c179e\"], [0.4444444444444444, \"#bd3786\"], [0.5555555555555556, \"#d8576b\"], [0.6666666666666666, \"#ed7953\"], [0.7777777777777778, \"#fb9f3a\"], [0.8888888888888888, \"#fdca26\"], [1.0, \"#f0f921\"]], \"sequentialminus\": [[0.0, \"#0d0887\"], [0.1111111111111111, \"#46039f\"], [0.2222222222222222, \"#7201a8\"], [0.3333333333333333, \"#9c179e\"], [0.4444444444444444, \"#bd3786\"], [0.5555555555555556, \"#d8576b\"], [0.6666666666666666, \"#ed7953\"], [0.7777777777777778, \"#fb9f3a\"], [0.8888888888888888, \"#fdca26\"], [1.0, \"#f0f921\"]]}, \"colorway\": [\"#636efa\", \"#EF553B\", \"#00cc96\", \"#ab63fa\", \"#FFA15A\", \"#19d3f3\", \"#FF6692\", \"#B6E880\", \"#FF97FF\", \"#FECB52\"], \"font\": {\"color\": \"#2a3f5f\"}, \"geo\": {\"bgcolor\": \"white\", \"lakecolor\": \"white\", \"landcolor\": \"#E5ECF6\", \"showlakes\": true, \"showland\": true, \"subunitcolor\": \"white\"}, \"hoverlabel\": {\"align\": \"left\"}, \"hovermode\": \"closest\", \"mapbox\": {\"style\": \"light\"}, \"paper_bgcolor\": \"white\", \"plot_bgcolor\": \"#E5ECF6\", \"polar\": {\"angularaxis\": {\"gridcolor\": \"white\", \"linecolor\": \"white\", \"ticks\": \"\"}, \"bgcolor\": \"#E5ECF6\", \"radialaxis\": {\"gridcolor\": \"white\", \"linecolor\": \"white\", \"ticks\": \"\"}}, \"scene\": {\"xaxis\": {\"backgroundcolor\": \"#E5ECF6\", \"gridcolor\": \"white\", \"gridwidth\": 2, \"linecolor\": \"white\", \"showbackground\": true, \"ticks\": \"\", \"zerolinecolor\": \"white\"}, \"yaxis\": {\"backgroundcolor\": \"#E5ECF6\", \"gridcolor\": \"white\", \"gridwidth\": 2, \"linecolor\": \"white\", \"showbackground\": true, \"ticks\": \"\", \"zerolinecolor\": \"white\"}, \"zaxis\": {\"backgroundcolor\": \"#E5ECF6\", \"gridcolor\": \"white\", \"gridwidth\": 2, \"linecolor\": \"white\", \"showbackground\": true, \"ticks\": \"\", \"zerolinecolor\": \"white\"}}, \"shapedefaults\": {\"line\": {\"color\": \"#2a3f5f\"}}, \"ternary\": {\"aaxis\": {\"gridcolor\": \"white\", \"linecolor\": \"white\", \"ticks\": \"\"}, \"baxis\": {\"gridcolor\": \"white\", \"linecolor\": \"white\", \"ticks\": \"\"}, \"bgcolor\": \"#E5ECF6\", \"caxis\": {\"gridcolor\": \"white\", \"linecolor\": \"white\", \"ticks\": \"\"}}, \"title\": {\"x\": 0.05}, \"xaxis\": {\"automargin\": true, \"gridcolor\": \"white\", \"linecolor\": \"white\", \"ticks\": \"\", \"title\": {\"standoff\": 15}, \"zerolinecolor\": \"white\", \"zerolinewidth\": 2}, \"yaxis\": {\"automargin\": true, \"gridcolor\": \"white\", \"linecolor\": \"white\", \"ticks\": \"\", \"title\": {\"standoff\": 15}, \"zerolinecolor\": \"white\", \"zerolinewidth\": 2}}}, \"title\": {\"text\": \"Train Data Distribution \", \"x\": 0.5, \"xanchor\": \"center\", \"y\": 0.95, \"yanchor\": \"top\"}, \"xaxis\": {\"anchor\": \"y\", \"domain\": [0.0, 1.0], \"title\": {\"text\": \"Emotions\"}}, \"yaxis\": {\"anchor\": \"x\", \"domain\": [0.0, 1.0], \"title\": {\"text\": \"Number of Images\"}}},\n",
              "                        {\"responsive\": true}\n",
              "                    ).then(function(){\n",
              "                            \n",
              "var gd = document.getElementById('a2b5c45b-10f4-4b0d-ac0f-67af2da515b6');\n",
              "var x = new MutationObserver(function (mutations, observer) {{\n",
              "        var display = window.getComputedStyle(gd).display;\n",
              "        if (!display || display === 'none') {{\n",
              "            console.log([gd, 'removed!']);\n",
              "            Plotly.purge(gd);\n",
              "            observer.disconnect();\n",
              "        }}\n",
              "}});\n",
              "\n",
              "// Listen for the removal of the full notebook cells\n",
              "var notebookContainer = gd.closest('#notebook-container');\n",
              "if (notebookContainer) {{\n",
              "    x.observe(notebookContainer, {childList: true});\n",
              "}}\n",
              "\n",
              "// Listen for the clearing of the current output cell\n",
              "var outputEl = gd.closest('.output');\n",
              "if (outputEl) {{\n",
              "    x.observe(outputEl, {childList: true});\n",
              "}}\n",
              "\n",
              "                        })\n",
              "                };\n",
              "                \n",
              "            </script>\n",
              "        </div>\n",
              "</body>\n",
              "</html>"
            ]
          },
          "metadata": {}
        }
      ]
    },
    {
      "cell_type": "code",
      "source": [
        "def feature_extractor(inputs):\n",
        "    feature_extractor = tf.keras.applications.DenseNet169(input_shape=(IMG_HEIGHT,IMG_WIDTH, 3),\n",
        "                                               include_top=False,\n",
        "                                               weights=\"imagenet\")(inputs)\n",
        "    \n",
        "    return feature_extractor\n",
        "def classifier(inputs):\n",
        "    x = tf.keras.layers.GlobalAveragePooling2D()(inputs)\n",
        "    x = tf.keras.layers.Dense(256, activation=\"relu\", kernel_regularizer = tf.keras.regularizers.l2(0.01))(x)\n",
        "    x = tf.keras.layers.Dropout(0.3)(x)\n",
        "    x = tf.keras.layers.Dense(1024, activation=\"relu\", kernel_regularizer = tf.keras.regularizers.l2(0.01))(x)\n",
        "    x = tf.keras.layers.Dropout(0.5)(x)\n",
        "    x = tf.keras.layers.Dense(512, activation=\"relu\", kernel_regularizer = tf.keras.regularizers.l2(0.01))(x)\n",
        "    x = tf.keras.layers.Dropout(0.5) (x)\n",
        "    x = tf.keras.layers.Dense(NUM_CLASSES, activation=\"softmax\", name=\"classification\")(x)\n",
        "    \n",
        "    return x\n",
        "def final_model(inputs):\n",
        "    densenet_feature_extractor = feature_extractor(inputs)\n",
        "    classification_output = classifier(densenet_feature_extractor)\n",
        "    \n",
        "    return classification_output\n",
        "\n",
        "def define_compile_model():\n",
        "    \n",
        "    inputs = tf.keras.layers.Input(shape=(IMG_HEIGHT ,IMG_WIDTH,3))\n",
        "    classification_output = final_model(inputs) \n",
        "    model = tf.keras.Model(inputs=inputs, outputs = classification_output)\n",
        "     \n",
        "    model.compile(optimizer=tf.keras.optimizers.SGD(0.1), \n",
        "                loss='categorical_crossentropy',\n",
        "                metrics = ['accuracy'])\n",
        "  \n",
        "    return model"
      ],
      "metadata": {
        "id": "v-KuZ7NhkeHJ"
      },
      "execution_count": 7,
      "outputs": []
    },
    {
      "cell_type": "code",
      "source": [
        "model = define_compile_model()\n",
        "clear_output()\n",
        "\n",
        "# Feezing the feature extraction layers\n",
        "model.layers[1].trainable = False\n",
        "\n",
        "model.summary()"
      ],
      "metadata": {
        "colab": {
          "base_uri": "https://localhost:8080/"
        },
        "id": "GE4d0FoEbPtg",
        "outputId": "31cd511b-a2d4-421d-95d1-c13c667ccf17"
      },
      "execution_count": 8,
      "outputs": [
        {
          "output_type": "stream",
          "name": "stdout",
          "text": [
            "Model: \"model\"\n",
            "_________________________________________________________________\n",
            " Layer (type)                Output Shape              Param #   \n",
            "=================================================================\n",
            " input_1 (InputLayer)        [(None, 48, 48, 3)]       0         \n",
            "                                                                 \n",
            " densenet169 (Functional)    (None, 1, 1, 1664)        12642880  \n",
            "                                                                 \n",
            " global_average_pooling2d (G  (None, 1664)             0         \n",
            " lobalAveragePooling2D)                                          \n",
            "                                                                 \n",
            " dense (Dense)               (None, 256)               426240    \n",
            "                                                                 \n",
            " dropout (Dropout)           (None, 256)               0         \n",
            "                                                                 \n",
            " dense_1 (Dense)             (None, 1024)              263168    \n",
            "                                                                 \n",
            " dropout_1 (Dropout)         (None, 1024)              0         \n",
            "                                                                 \n",
            " dense_2 (Dense)             (None, 512)               524800    \n",
            "                                                                 \n",
            " dropout_2 (Dropout)         (None, 512)               0         \n",
            "                                                                 \n",
            " classification (Dense)      (None, 7)                 3591      \n",
            "                                                                 \n",
            "=================================================================\n",
            "Total params: 13,860,679\n",
            "Trainable params: 1,217,799\n",
            "Non-trainable params: 12,642,880\n",
            "_________________________________________________________________\n"
          ]
        }
      ]
    },
    {
      "cell_type": "code",
      "source": [
        "earlyStoppingCallback = tf.keras.callbacks.EarlyStopping(monitor='val_loss', \n",
        "                                                         patience=EARLY_STOPPING_CRITERIA,\n",
        "                                                         verbose= 1 ,\n",
        "                                                         restore_best_weights=True\n",
        "                                                        )\n",
        "\n",
        "history = model.fit(x = train_generator,\n",
        "                    epochs = EPOCHS ,\n",
        "                    validation_data = validation_generator , \n",
        "                    callbacks= [earlyStoppingCallback])\n",
        "\n",
        "history = pd.DataFrame(history.history)"
      ],
      "metadata": {
        "id": "EFo2-98ulHoY",
        "colab": {
          "base_uri": "https://localhost:8080/"
        },
        "outputId": "aa1fdc4e-b89f-4f0c-ca5e-b6469e70c093"
      },
      "execution_count": 9,
      "outputs": [
        {
          "output_type": "stream",
          "name": "stdout",
          "text": [
            "Epoch 1/30\n",
            "359/359 [==============================] - 4642s 13s/step - loss: 9.8893 - accuracy: 0.3060 - val_loss: 5.5210 - val_accuracy: 0.1735\n",
            "Epoch 2/30\n",
            "359/359 [==============================] - 72s 199ms/step - loss: 3.3854 - accuracy: 0.4538 - val_loss: 2.4406 - val_accuracy: 0.4266\n",
            "Epoch 3/30\n",
            "359/359 [==============================] - 72s 199ms/step - loss: 1.7941 - accuracy: 0.5206 - val_loss: 1.4807 - val_accuracy: 0.5374\n",
            "Epoch 4/30\n",
            "359/359 [==============================] - 72s 199ms/step - loss: 1.3793 - accuracy: 0.5446 - val_loss: 1.2806 - val_accuracy: 0.5447\n",
            "Epoch 5/30\n",
            "359/359 [==============================] - 71s 198ms/step - loss: 1.2538 - accuracy: 0.5664 - val_loss: 1.3321 - val_accuracy: 0.5314\n",
            "Epoch 6/30\n",
            "359/359 [==============================] - 71s 198ms/step - loss: 1.1925 - accuracy: 0.5890 - val_loss: 1.2352 - val_accuracy: 0.5654\n",
            "Epoch 7/30\n",
            "359/359 [==============================] - 71s 199ms/step - loss: 1.1572 - accuracy: 0.6011 - val_loss: 1.3189 - val_accuracy: 0.5464\n",
            "Epoch 8/30\n",
            "359/359 [==============================] - 72s 200ms/step - loss: 1.1245 - accuracy: 0.6144 - val_loss: 1.1880 - val_accuracy: 0.5882\n",
            "Epoch 9/30\n",
            "359/359 [==============================] - 72s 200ms/step - loss: 1.0936 - accuracy: 0.6281 - val_loss: 1.2497 - val_accuracy: 0.5630\n",
            "Epoch 10/30\n",
            "359/359 [==============================] - 71s 198ms/step - loss: 1.0718 - accuracy: 0.6386 - val_loss: 1.2825 - val_accuracy: 0.5626\n",
            "Epoch 11/30\n",
            "359/359 [==============================] - 72s 200ms/step - loss: 1.0524 - accuracy: 0.6458 - val_loss: 1.1142 - val_accuracy: 0.6241\n",
            "Epoch 12/30\n",
            "359/359 [==============================] - 71s 198ms/step - loss: 1.0337 - accuracy: 0.6585 - val_loss: 1.2045 - val_accuracy: 0.6006\n",
            "Epoch 13/30\n",
            "359/359 [==============================] - 71s 198ms/step - loss: 1.0086 - accuracy: 0.6649 - val_loss: 1.1309 - val_accuracy: 0.6157\n",
            "Epoch 14/30\n",
            "359/359 [==============================] - ETA: 0s - loss: 0.9943 - accuracy: 0.6681Restoring model weights from the end of the best epoch: 11.\n",
            "359/359 [==============================] - 72s 200ms/step - loss: 0.9943 - accuracy: 0.6681 - val_loss: 1.1191 - val_accuracy: 0.6180\n",
            "Epoch 00014: early stopping\n"
          ]
        }
      ]
    },
    {
      "cell_type": "code",
      "source": [
        "# Un-Freezing the feature extraction layers for fine tuning \n",
        "model.layers[1].trainable = True\n",
        "\n",
        "model.compile(optimizer=tf.keras.optimizers.SGD(0.001), #lower learning rate\n",
        "                loss='categorical_crossentropy',\n",
        "                metrics = ['accuracy'])\n",
        "\n",
        "history_ = model.fit(x = train_generator,epochs = FINE_TUNING_EPOCHS ,validation_data = validation_generator)\n",
        "history = history.append(pd.DataFrame(history_.history) , ignore_index=True)"
      ],
      "metadata": {
        "id": "ehPF4AxP5iuR"
      },
      "execution_count": null,
      "outputs": []
    },
    {
      "cell_type": "code",
      "source": [
        "x = px.line(data_frame= history , y= [\"accuracy\" , \"val_accuracy\"] ,markers = True )\n",
        "x.update_xaxes(title=\"Number of Epochs\")\n",
        "x.update_yaxes(title = \"Accuracy\")\n",
        "x.update_layout(showlegend = True,\n",
        "    title = {\n",
        "        'text': 'Accuracy vs Number of Epochs',\n",
        "        'y':0.94,\n",
        "        'x':0.5,\n",
        "        'xanchor': 'center',\n",
        "        'yanchor': 'top'})\n",
        "x.show()"
      ],
      "metadata": {
        "id": "bbHBofHflPYi"
      },
      "execution_count": null,
      "outputs": []
    },
    {
      "cell_type": "code",
      "source": [
        "x = px.line(data_frame= history , \n",
        "            y= [\"loss\" , \"val_loss\"] , markers = True )\n",
        "x.update_xaxes(title=\"Number of Epochs\")\n",
        "x.update_yaxes(title = \"Loss\")\n",
        "x.update_layout(showlegend = True,\n",
        "    title = {\n",
        "        'text': 'Loss vs Number of Epochs',\n",
        "        'y':0.94,\n",
        "        'x':0.5,\n",
        "        'xanchor': 'center',\n",
        "        'yanchor': 'top'})\n",
        "x.show()"
      ],
      "metadata": {
        "id": "oZ7eRypelSoY"
      },
      "execution_count": null,
      "outputs": []
    },
    {
      "cell_type": "code",
      "source": [
        "model.evaluate(test_generator)\n",
        "preds = model.predict(test_generator)\n",
        "y_preds = np.argmax(preds , axis = 1 )\n",
        "y_test = np.array(test_generator.labels)"
      ],
      "metadata": {
        "id": "aMYWjNHAlVcR"
      },
      "execution_count": null,
      "outputs": []
    },
    {
      "cell_type": "code",
      "source": [
        "cm_data = confusion_matrix(y_test , y_preds)\n",
        "cm = pd.DataFrame(cm_data, columns=CLASS_LABELS, index = CLASS_LABELS)\n",
        "cm.index.name = 'Actual'\n",
        "cm.columns.name = 'Predicted'\n",
        "plt.figure(figsize = (20,10))\n",
        "plt.title('Confusion Matrix', fontsize = 20)\n",
        "sns.set(font_scale=1.2)\n",
        "ax = sns.heatmap(cm, cbar=False, cmap=\"Blues\", annot=True, annot_kws={\"size\": 16}, fmt='g')"
      ],
      "metadata": {
        "id": "21HBBiTVlXz3"
      },
      "execution_count": null,
      "outputs": []
    },
    {
      "cell_type": "code",
      "source": [
        "print(classification_report(y_test, y_preds))"
      ],
      "metadata": {
        "id": "pk-GsGdulajn"
      },
      "execution_count": null,
      "outputs": []
    },
    {
      "cell_type": "code",
      "source": [
        "def multiclass_roc_auc_score(y_test, y_pred, average=\"macro\"):\n",
        "    lb = LabelBinarizer()\n",
        "    lb.fit(y_test)\n",
        "    y_test = lb.transform(y_test)\n",
        "    for (idx, c_label) in enumerate(CLASS_LABELS):\n",
        "        fpr, tpr, thresholds = roc_curve(y_test[:,idx].astype(int), y_pred[:,idx])\n",
        "        c_ax.plot(fpr, tpr,lw=2, label = '%s (AUC:%0.2f)'  % (c_label, auc(fpr, tpr)))\n",
        "    c_ax.plot(fpr, fpr, 'black',linestyle='dashed', lw=4, label = 'Random Guessing')\n",
        "    return roc_auc_score(y_test, y_pred, average=average)\n",
        "\n",
        "print('ROC AUC score:', multiclass_roc_auc_score(y_test , preds  , average = \"micro\"))\n",
        "plt.xlabel('FALSE POSITIVE RATE', fontsize=18)\n",
        "plt.ylabel('TRUE POSITIVE RATE', fontsize=16)\n",
        "plt.legend(fontsize = 11.5)\n",
        "plt.show()"
      ],
      "metadata": {
        "id": "SCtvoATRleJw"
      },
      "execution_count": null,
      "outputs": []
    },
    {
      "cell_type": "code",
      "source": [
        "print(\"ROC-AUC Score  = \" ,roc_auc_score(to_categorical(y_test) , preds))"
      ],
      "metadata": {
        "id": "4JjPIhSElhKn"
      },
      "execution_count": null,
      "outputs": []
    }
  ]
}