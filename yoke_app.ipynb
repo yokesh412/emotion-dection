{
  "cells": [
    {
      "cell_type": "markdown",
      "metadata": {
        "id": "view-in-github",
        "colab_type": "text"
      },
      "source": [
        "<a href=\"https://colab.research.google.com/github/yokesh412/emotion-dection/blob/main/yoke_app.ipynb\" target=\"_parent\"><img src=\"https://colab.research.google.com/assets/colab-badge.svg\" alt=\"Open In Colab\"/></a>"
      ]
    },
    {
      "cell_type": "code",
      "execution_count": null,
      "metadata": {
        "colab": {
          "base_uri": "https://localhost:8080/"
        },
        "id": "XZ0QkEUUc8Nc",
        "outputId": "add8b1f1-064a-4185-9252-3378082aa951"
      },
      "outputs": [
        {
          "name": "stderr",
          "output_type": "stream",
          "text": [
            "2022-02-22 08:23:16.540245: E tensorflow/stream_executor/cuda/cuda_driver.cc:271] failed call to cuInit: CUDA_ERROR_NO_DEVICE: no CUDA-capable device is detected\n",
            "2022-02-22 08:23:26.613 \n",
            "  \u001b[33m\u001b[1mWarning:\u001b[0m to view this Streamlit app on a browser, run it with the following\n",
            "  command:\n",
            "\n",
            "    streamlit run /usr/local/lib/python3.7/dist-packages/ipykernel_launcher.py [ARGUMENTS]\n"
          ]
        }
      ],
      "source": [
        "import numpy as np\n",
        "import cv2\n",
        "import streamlit as st\n",
        "from tensorflow import keras\n",
        "from keras.models import model_from_json\n",
        "from keras.preprocessing.image import img_to_array\n",
        "from streamlit_webrtc import webrtc_streamer, VideoTransformerBase\n",
        "\n",
        "# load model\n",
        "emotion_dict = {0:'angry', 1 :'happy', 2: 'neutral', 3:'sad', 4: 'surprise'}\n",
        "# load json and create model\n",
        "json_file = open(\"/content/drive/MyDrive/jsonmodel.json\", 'r')\n",
        "loaded_model_json = json_file.read()\n",
        "json_file.close()\n",
        "classifier = model_from_json(loaded_model_json)\n",
        "\n",
        "# load weights into new model\n",
        "classifier.load_weights(r'/content/drive/MyDrive/h5model.h5')\n",
        "\n",
        "#load face\n",
        "try:\n",
        "    face_cascade = cv2.CascadeClassifier(r'/content/drive/MyDrive/haarcascade file.xml')\n",
        "except Exception:\n",
        "    st.write(\"Error loading cascade classifiers\")\n",
        "\n",
        "class VideoTransformer(VideoTransformerBase):\n",
        "    def transform(self, frame):\n",
        "        img = frame.to_ndarray(format=\"bgr24\")\n",
        "\n",
        "        #image gray\n",
        "        img_gray = cv2.cvtColor(img, cv2.COLOR_BGR2GRAY)\n",
        "        faces = face_cascade.detectMultiScale(\n",
        "            image=img_gray, scaleFactor=1.3, minNeighbors=5)\n",
        "        for (x, y, w, h) in faces:\n",
        "            cv2.rectangle(img=img, pt1=(x, y), pt2=(\n",
        "                x + w, y + h), color=(255, 0, 0), thickness=2)\n",
        "            roi_gray = img_gray[y:y + h, x:x + w]\n",
        "            roi_gray = cv2.resize(roi_gray, (48, 48), interpolation=cv2.INTER_AREA)\n",
        "            if np.sum([roi_gray]) != 0:\n",
        "                roi = roi_gray.astype('float') / 255.0\n",
        "                roi = img_to_array(roi)\n",
        "                roi = np.expand_dims(roi, axis=0)\n",
        "                prediction = classifier.predict(roi)[0]\n",
        "                maxindex = int(np.argmax(prediction))\n",
        "                finalout = emotion_dict[maxindex]\n",
        "                output = str(finalout)\n",
        "            label_position = (x, y)\n",
        "            cv2.putText(img, output, label_position, cv2.FONT_HERSHEY_SIMPLEX, 1, (0, 255, 0), 2)\n",
        "\n",
        "        return img\n",
        "\n",
        "def main():\n",
        "    # Face Analysis Application #\n",
        "    st.title(\"Real Time Face Emotion Detection Application\")\n",
        "    activiteis = [\"Home\", \"Webcam Face Detection\", \"About\"]\n",
        "    choice = st.sidebar.selectbox(\"Select Activity\", activiteis)\n",
        "    st.sidebar.markdown(\n",
        "        \"\"\" Developed by yokesh    \n",
        "            Email : yokerockstar@gmail.com  \n",
        "            \"\"\")\n",
        "    if choice == \"Home\":\n",
        "        html_temp_home1 = \"\"\"<div style=\"background-color:#6D7B8D;padding:10px\">\n",
        "                                            <h4 style=\"color:white;text-align:center;\">\n",
        "                                            Face Emotion detection application using OpenCV, Custom CNN model and Streamlit.</h4>\n",
        "                                            </div>\n",
        "                                            </br>\"\"\"\n",
        "        st.markdown(html_temp_home1, unsafe_allow_html=True)\n",
        "        st.write(\"\"\"\n",
        "                 The application has two functionalities.\n",
        "\n",
        "                 1. Real time face detection using web cam feed.\n",
        "\n",
        "                 2. Real time face emotion recognization.\n",
        "\n",
        "                 \"\"\")\n",
        "    elif choice == \"Webcam Face Detection\":\n",
        "        st.header(\"Webcam Live Feed\")\n",
        "        st.write(\"Click on start to use webcam and detect your face emotion\")\n",
        "        webrtc_streamer(key=\"example\", video_transformer_factory=VideoTransformer)\n",
        "\n",
        "    elif choice == \"About\":\n",
        "        st.subheader(\"About this app\")\n",
        "        html_temp_about1= \"\"\"<div style=\"background-color:#6D7B8D;padding:10px\">\n",
        "                                    <h4 style=\"color:white;text-align:center;\">\n",
        "                                    Real time face emotion detection application using OpenCV, Custom Trained CNN model and Streamlit.</h4>\n",
        "                                    </div>\n",
        "                                    </br>\"\"\"\n",
        "        st.markdown(html_temp_about1, unsafe_allow_html=True)\n",
        "\n",
        "        html_temp4 = \"\"\"\n",
        "                             \t\t<div style=\"background-color:#98AFC7;padding:10px\">\n",
        "                             \t\t<h4 style=\"color:white;text-align:center;\">This Application is developed by yokesh using Streamlit Framework, Opencv, Tensorflow and Keras library for demonstration purpose. If you're on LinkedIn and want to connect, just click on the link in sidebar and shoot me a request. If you have any suggestion or wnat to comment just write a mail at Mohammad.juned.z.khan@gmail.com. </h4>\n",
        "                             \t\t<h4 style=\"color:white;text-align:center;\">Thanks for Visiting</h4>\n",
        "                             \t\t</div>\n",
        "                             \t\t<br></br>\n",
        "                             \t\t<br></br>\"\"\"\n",
        "\n",
        "        st.markdown(html_temp4, unsafe_allow_html=True)\n",
        "\n",
        "    else:\n",
        "        pass\n",
        "\n",
        "\n",
        "if __name__ == \"__main__\":\n",
        "    main()"
      ]
    },
    {
      "cell_type": "code",
      "execution_count": null,
      "metadata": {
        "colab": {
          "background_save": true,
          "base_uri": "https://localhost:8080/"
        },
        "id": "jqn5vFRsh0p5",
        "outputId": "990d841f-b299-403f-c356-672e12af00da"
      },
      "outputs": [
        {
          "name": "stdout",
          "output_type": "stream",
          "text": [
            "2022-02-22 09:22:37.797 INFO    numexpr.utils: NumExpr defaulting to 2 threads.\n",
            "\u001b[0m\n",
            "\u001b[34m\u001b[1m  You can now view your Streamlit app in your browser.\u001b[0m\n",
            "\u001b[0m\n",
            "\u001b[34m  Network URL: \u001b[0m\u001b[1mhttp://172.28.0.2:8501\u001b[0m\n",
            "\u001b[34m  External URL: \u001b[0m\u001b[1mhttp://35.245.124.111:8501\u001b[0m\n",
            "\u001b[0m\n"
          ]
        }
      ],
      "source": [
        "!streamlit run /usr/local/lib/python3.7/dist-packages/ipykernel_launcher.py  --server.headless=true"
      ]
    }
  ],
  "metadata": {
    "colab": {
      "name": "yoke app.ipynb",
      "provenance": [],
      "collapsed_sections": [],
      "mount_file_id": "18XfNJqIKMzddAVi2ig1pe-dCjARbXO-d",
      "authorship_tag": "ABX9TyNoOz3elrlVUb6XN3TCMtIY",
      "include_colab_link": true
    },
    "kernelspec": {
      "display_name": "Python 3",
      "name": "python3"
    },
    "language_info": {
      "name": "python"
    }
  },
  "nbformat": 4,
  "nbformat_minor": 0
}